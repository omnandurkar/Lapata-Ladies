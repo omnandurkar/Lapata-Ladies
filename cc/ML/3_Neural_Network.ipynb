{
 "cells": [
  {
   "cell_type": "code",
   "execution_count": 27,
   "metadata": {
    "id": "atw2Xac9I0xl"
   },
   "outputs": [],
   "source": [
    "import numpy as np\n",
    "import matplotlib.pyplot as plt\n",
    "import pandas as pd\n",
    "import seaborn as sns\n",
    "sns.set()"
   ]
  },
  {
   "cell_type": "code",
   "execution_count": 28,
   "metadata": {
    "colab": {
     "base_uri": "https://localhost:8080/",
     "height": 302
    },
    "id": "NPfi2q75I0xl",
    "outputId": "1f049900-3b13-433a-fa05-c439e3d9c2de"
   },
   "outputs": [
    {
     "data": {
      "text/html": [
       "<div>\n",
       "<style scoped>\n",
       "    .dataframe tbody tr th:only-of-type {\n",
       "        vertical-align: middle;\n",
       "    }\n",
       "\n",
       "    .dataframe tbody tr th {\n",
       "        vertical-align: top;\n",
       "    }\n",
       "\n",
       "    .dataframe thead th {\n",
       "        text-align: right;\n",
       "    }\n",
       "</style>\n",
       "<table border=\"1\" class=\"dataframe\">\n",
       "  <thead>\n",
       "    <tr style=\"text-align: right;\">\n",
       "      <th></th>\n",
       "      <th>CustomerId</th>\n",
       "      <th>Surname</th>\n",
       "      <th>CreditScore</th>\n",
       "      <th>Geography</th>\n",
       "      <th>Gender</th>\n",
       "      <th>Age</th>\n",
       "      <th>Tenure</th>\n",
       "      <th>Balance</th>\n",
       "      <th>NumOfProducts</th>\n",
       "      <th>HasCrCard</th>\n",
       "      <th>IsActiveMember</th>\n",
       "      <th>EstimatedSalary</th>\n",
       "      <th>Exited</th>\n",
       "    </tr>\n",
       "    <tr>\n",
       "      <th>RowNumber</th>\n",
       "      <th></th>\n",
       "      <th></th>\n",
       "      <th></th>\n",
       "      <th></th>\n",
       "      <th></th>\n",
       "      <th></th>\n",
       "      <th></th>\n",
       "      <th></th>\n",
       "      <th></th>\n",
       "      <th></th>\n",
       "      <th></th>\n",
       "      <th></th>\n",
       "      <th></th>\n",
       "    </tr>\n",
       "  </thead>\n",
       "  <tbody>\n",
       "    <tr>\n",
       "      <th>1</th>\n",
       "      <td>15634602</td>\n",
       "      <td>Hargrave</td>\n",
       "      <td>619</td>\n",
       "      <td>France</td>\n",
       "      <td>Female</td>\n",
       "      <td>42</td>\n",
       "      <td>2</td>\n",
       "      <td>0.00</td>\n",
       "      <td>1</td>\n",
       "      <td>1</td>\n",
       "      <td>1</td>\n",
       "      <td>101348.88</td>\n",
       "      <td>1</td>\n",
       "    </tr>\n",
       "    <tr>\n",
       "      <th>2</th>\n",
       "      <td>15647311</td>\n",
       "      <td>Hill</td>\n",
       "      <td>608</td>\n",
       "      <td>Spain</td>\n",
       "      <td>Female</td>\n",
       "      <td>41</td>\n",
       "      <td>1</td>\n",
       "      <td>83807.86</td>\n",
       "      <td>1</td>\n",
       "      <td>0</td>\n",
       "      <td>1</td>\n",
       "      <td>112542.58</td>\n",
       "      <td>0</td>\n",
       "    </tr>\n",
       "    <tr>\n",
       "      <th>3</th>\n",
       "      <td>15619304</td>\n",
       "      <td>Onio</td>\n",
       "      <td>502</td>\n",
       "      <td>France</td>\n",
       "      <td>Female</td>\n",
       "      <td>42</td>\n",
       "      <td>8</td>\n",
       "      <td>159660.80</td>\n",
       "      <td>3</td>\n",
       "      <td>1</td>\n",
       "      <td>0</td>\n",
       "      <td>113931.57</td>\n",
       "      <td>1</td>\n",
       "    </tr>\n",
       "    <tr>\n",
       "      <th>4</th>\n",
       "      <td>15701354</td>\n",
       "      <td>Boni</td>\n",
       "      <td>699</td>\n",
       "      <td>France</td>\n",
       "      <td>Female</td>\n",
       "      <td>39</td>\n",
       "      <td>1</td>\n",
       "      <td>0.00</td>\n",
       "      <td>2</td>\n",
       "      <td>0</td>\n",
       "      <td>0</td>\n",
       "      <td>93826.63</td>\n",
       "      <td>0</td>\n",
       "    </tr>\n",
       "    <tr>\n",
       "      <th>5</th>\n",
       "      <td>15737888</td>\n",
       "      <td>Mitchell</td>\n",
       "      <td>850</td>\n",
       "      <td>Spain</td>\n",
       "      <td>Female</td>\n",
       "      <td>43</td>\n",
       "      <td>2</td>\n",
       "      <td>125510.82</td>\n",
       "      <td>1</td>\n",
       "      <td>1</td>\n",
       "      <td>1</td>\n",
       "      <td>79084.10</td>\n",
       "      <td>0</td>\n",
       "    </tr>\n",
       "  </tbody>\n",
       "</table>\n",
       "</div>"
      ],
      "text/plain": [
       "           CustomerId   Surname  CreditScore Geography  Gender  Age  Tenure  \\\n",
       "RowNumber                                                                     \n",
       "1            15634602  Hargrave          619    France  Female   42       2   \n",
       "2            15647311      Hill          608     Spain  Female   41       1   \n",
       "3            15619304      Onio          502    France  Female   42       8   \n",
       "4            15701354      Boni          699    France  Female   39       1   \n",
       "5            15737888  Mitchell          850     Spain  Female   43       2   \n",
       "\n",
       "             Balance  NumOfProducts  HasCrCard  IsActiveMember  \\\n",
       "RowNumber                                                        \n",
       "1               0.00              1          1               1   \n",
       "2           83807.86              1          0               1   \n",
       "3          159660.80              3          1               0   \n",
       "4               0.00              2          0               0   \n",
       "5          125510.82              1          1               1   \n",
       "\n",
       "           EstimatedSalary  Exited  \n",
       "RowNumber                           \n",
       "1                101348.88       1  \n",
       "2                112542.58       0  \n",
       "3                113931.57       1  \n",
       "4                 93826.63       0  \n",
       "5                 79084.10       0  "
      ]
     },
     "execution_count": 28,
     "metadata": {},
     "output_type": "execute_result"
    }
   ],
   "source": [
    "dataset = pd.read_csv('Churn_Modelling.csv', index_col = 'RowNumber')\n",
    "dataset.head()\n"
   ]
  },
  {
   "cell_type": "code",
   "execution_count": 29,
   "metadata": {
    "colab": {
     "base_uri": "https://localhost:8080/"
    },
    "id": "jelFHwknI0xm",
    "outputId": "e8e8af69-44e3-4b72-84cf-e15d6b026a5f"
   },
   "outputs": [
    {
     "name": "stdout",
     "output_type": "stream",
     "text": [
      "['CreditScore', 'Geography', 'Gender', 'Age', 'Tenure', 'Balance', 'NumOfProducts', 'HasCrCard', 'IsActiveMember', 'EstimatedSalary']\n",
      "['Exited']\n"
     ]
    }
   ],
   "source": [
    "#Customer ID and Surname would not be relevant as features\n",
    "X_columns = dataset.columns.tolist()[2:12]\n",
    "Y_columns = dataset.columns.tolist()[-1:]\n",
    "print(X_columns)\n",
    "print(Y_columns)"
   ]
  },
  {
   "cell_type": "code",
   "execution_count": 30,
   "metadata": {
    "id": "_EnXaCYmI0xn"
   },
   "outputs": [],
   "source": [
    "X = dataset[X_columns].values \n",
    "Y = dataset[Y_columns].values"
   ]
  },
  {
   "cell_type": "code",
   "execution_count": 31,
   "metadata": {
    "id": "cjbVx3FRI0xn"
   },
   "outputs": [],
   "source": [
    "#We need to encode categorical variables such as geography and gender\n",
    "from sklearn.preprocessing import LabelEncoder\n",
    "X_column_transformer = LabelEncoder()\n",
    "X[:, 1] = X_column_transformer.fit_transform(X[:, 1])"
   ]
  },
  {
   "cell_type": "code",
   "execution_count": 32,
   "metadata": {
    "id": "tS02t4y9I0xn"
   },
   "outputs": [],
   "source": [
    "#Lets Encode gender now\n",
    "X[:, 2] = X_column_transformer.fit_transform(X[:, 2])"
   ]
  },
  {
   "cell_type": "markdown",
   "metadata": {
    "id": "DKwFc-HWI0xo"
   },
   "source": [
    "We are treating countries with ordinal values(0 < 1 < 2) but they are incomparable.\n",
    "To solve this we can use one hot encoding.\n",
    "We will perform some standardization "
   ]
  },
  {
   "cell_type": "code",
   "execution_count": 33,
   "metadata": {
    "id": "v-bI9UNiI0xo"
   },
   "outputs": [],
   "source": [
    "from sklearn.preprocessing import StandardScaler, OneHotEncoder\n",
    "from sklearn.compose import ColumnTransformer\n",
    "from sklearn.pipeline import Pipeline\n",
    "\n",
    "pipeline = Pipeline(\n",
    "    [\n",
    "        ('Categorizer', ColumnTransformer(\n",
    "            [\n",
    "                (\"Gender Label Encoder\", OneHotEncoder(categories = 'auto', drop = 'first'), [2]),\n",
    "                (\"Geography Label Encoder\", OneHotEncoder(categories = 'auto', drop = 'first'), [1])\n",
    "            ], \n",
    "            remainder = 'passthrough', n_jobs = 1)),\n",
    "        ('Normalizer', StandardScaler())\n",
    "    ]\n",
    ")"
   ]
  },
  {
   "cell_type": "code",
   "execution_count": 34,
   "metadata": {
    "id": "7_TO_-fQI0xp"
   },
   "outputs": [],
   "source": [
    "#Standardize the features\n",
    "X = pipeline.fit_transform(X)"
   ]
  },
  {
   "cell_type": "code",
   "execution_count": 35,
   "metadata": {
    "id": "OJ7VUetiI0xq"
   },
   "outputs": [],
   "source": [
    "#Spilt the data\n",
    "from sklearn.model_selection import train_test_split\n",
    "X_train, X_test, y_train, y_test = train_test_split(X, Y, test_size = 0.2, random_state = 0)"
   ]
  },
  {
   "cell_type": "code",
   "execution_count": 36,
   "metadata": {},
   "outputs": [
    {
     "name": "stdout",
     "output_type": "stream",
     "text": [
      "Requirement already satisfied: tensorflow in c:\\users\\nandu\\anaconda3\\lib\\site-packages (2.18.0)\n",
      "Requirement already satisfied: tensorflow-intel==2.18.0 in c:\\users\\nandu\\anaconda3\\lib\\site-packages (from tensorflow) (2.18.0)\n",
      "Requirement already satisfied: absl-py>=1.0.0 in c:\\users\\nandu\\anaconda3\\lib\\site-packages (from tensorflow-intel==2.18.0->tensorflow) (2.1.0)\n",
      "Requirement already satisfied: astunparse>=1.6.0 in c:\\users\\nandu\\anaconda3\\lib\\site-packages (from tensorflow-intel==2.18.0->tensorflow) (1.6.3)\n",
      "Requirement already satisfied: flatbuffers>=24.3.25 in c:\\users\\nandu\\anaconda3\\lib\\site-packages (from tensorflow-intel==2.18.0->tensorflow) (24.3.25)\n",
      "Requirement already satisfied: gast!=0.5.0,!=0.5.1,!=0.5.2,>=0.2.1 in c:\\users\\nandu\\anaconda3\\lib\\site-packages (from tensorflow-intel==2.18.0->tensorflow) (0.6.0)\n",
      "Requirement already satisfied: google-pasta>=0.1.1 in c:\\users\\nandu\\anaconda3\\lib\\site-packages (from tensorflow-intel==2.18.0->tensorflow) (0.2.0)\n",
      "Requirement already satisfied: libclang>=13.0.0 in c:\\users\\nandu\\anaconda3\\lib\\site-packages (from tensorflow-intel==2.18.0->tensorflow) (18.1.1)\n",
      "Requirement already satisfied: opt-einsum>=2.3.2 in c:\\users\\nandu\\anaconda3\\lib\\site-packages (from tensorflow-intel==2.18.0->tensorflow) (3.4.0)\n",
      "Requirement already satisfied: packaging in c:\\users\\nandu\\anaconda3\\lib\\site-packages (from tensorflow-intel==2.18.0->tensorflow) (23.1)\n",
      "Requirement already satisfied: protobuf!=4.21.0,!=4.21.1,!=4.21.2,!=4.21.3,!=4.21.4,!=4.21.5,<6.0.0dev,>=3.20.3 in c:\\users\\nandu\\anaconda3\\lib\\site-packages (from tensorflow-intel==2.18.0->tensorflow) (3.20.3)\n",
      "Requirement already satisfied: requests<3,>=2.21.0 in c:\\users\\nandu\\anaconda3\\lib\\site-packages (from tensorflow-intel==2.18.0->tensorflow) (2.31.0)\n",
      "Requirement already satisfied: setuptools in c:\\users\\nandu\\anaconda3\\lib\\site-packages (from tensorflow-intel==2.18.0->tensorflow) (68.2.2)\n",
      "Requirement already satisfied: six>=1.12.0 in c:\\users\\nandu\\anaconda3\\lib\\site-packages (from tensorflow-intel==2.18.0->tensorflow) (1.16.0)\n",
      "Requirement already satisfied: termcolor>=1.1.0 in c:\\users\\nandu\\anaconda3\\lib\\site-packages (from tensorflow-intel==2.18.0->tensorflow) (2.5.0)\n",
      "Requirement already satisfied: typing-extensions>=3.6.6 in c:\\users\\nandu\\anaconda3\\lib\\site-packages (from tensorflow-intel==2.18.0->tensorflow) (4.9.0)\n",
      "Requirement already satisfied: wrapt>=1.11.0 in c:\\users\\nandu\\anaconda3\\lib\\site-packages (from tensorflow-intel==2.18.0->tensorflow) (1.14.1)\n",
      "Requirement already satisfied: grpcio<2.0,>=1.24.3 in c:\\users\\nandu\\anaconda3\\lib\\site-packages (from tensorflow-intel==2.18.0->tensorflow) (1.67.1)\n",
      "Requirement already satisfied: tensorboard<2.19,>=2.18 in c:\\users\\nandu\\anaconda3\\lib\\site-packages (from tensorflow-intel==2.18.0->tensorflow) (2.18.0)\n",
      "Requirement already satisfied: keras>=3.5.0 in c:\\users\\nandu\\anaconda3\\lib\\site-packages (from tensorflow-intel==2.18.0->tensorflow) (3.6.0)\n",
      "Requirement already satisfied: numpy<2.1.0,>=1.26.0 in c:\\users\\nandu\\anaconda3\\lib\\site-packages (from tensorflow-intel==2.18.0->tensorflow) (1.26.4)\n",
      "Requirement already satisfied: h5py>=3.11.0 in c:\\users\\nandu\\anaconda3\\lib\\site-packages (from tensorflow-intel==2.18.0->tensorflow) (3.12.1)\n",
      "Requirement already satisfied: ml-dtypes<0.5.0,>=0.4.0 in c:\\users\\nandu\\anaconda3\\lib\\site-packages (from tensorflow-intel==2.18.0->tensorflow) (0.4.1)\n",
      "Requirement already satisfied: tensorflow-io-gcs-filesystem>=0.23.1 in c:\\users\\nandu\\anaconda3\\lib\\site-packages (from tensorflow-intel==2.18.0->tensorflow) (0.31.0)\n",
      "Requirement already satisfied: wheel<1.0,>=0.23.0 in c:\\users\\nandu\\anaconda3\\lib\\site-packages (from astunparse>=1.6.0->tensorflow-intel==2.18.0->tensorflow) (0.41.2)\n",
      "Requirement already satisfied: rich in c:\\users\\nandu\\anaconda3\\lib\\site-packages (from keras>=3.5.0->tensorflow-intel==2.18.0->tensorflow) (13.3.5)\n",
      "Requirement already satisfied: namex in c:\\users\\nandu\\anaconda3\\lib\\site-packages (from keras>=3.5.0->tensorflow-intel==2.18.0->tensorflow) (0.0.8)\n",
      "Requirement already satisfied: optree in c:\\users\\nandu\\anaconda3\\lib\\site-packages (from keras>=3.5.0->tensorflow-intel==2.18.0->tensorflow) (0.13.0)\n",
      "Requirement already satisfied: charset-normalizer<4,>=2 in c:\\users\\nandu\\anaconda3\\lib\\site-packages (from requests<3,>=2.21.0->tensorflow-intel==2.18.0->tensorflow) (2.0.4)\n",
      "Requirement already satisfied: idna<4,>=2.5 in c:\\users\\nandu\\anaconda3\\lib\\site-packages (from requests<3,>=2.21.0->tensorflow-intel==2.18.0->tensorflow) (3.4)\n",
      "Requirement already satisfied: urllib3<3,>=1.21.1 in c:\\users\\nandu\\anaconda3\\lib\\site-packages (from requests<3,>=2.21.0->tensorflow-intel==2.18.0->tensorflow) (2.0.7)\n",
      "Requirement already satisfied: certifi>=2017.4.17 in c:\\users\\nandu\\anaconda3\\lib\\site-packages (from requests<3,>=2.21.0->tensorflow-intel==2.18.0->tensorflow) (2024.2.2)\n",
      "Requirement already satisfied: markdown>=2.6.8 in c:\\users\\nandu\\anaconda3\\lib\\site-packages (from tensorboard<2.19,>=2.18->tensorflow-intel==2.18.0->tensorflow) (3.4.1)\n",
      "Requirement already satisfied: tensorboard-data-server<0.8.0,>=0.7.0 in c:\\users\\nandu\\anaconda3\\lib\\site-packages (from tensorboard<2.19,>=2.18->tensorflow-intel==2.18.0->tensorflow) (0.7.2)\n",
      "Requirement already satisfied: werkzeug>=1.0.1 in c:\\users\\nandu\\anaconda3\\lib\\site-packages (from tensorboard<2.19,>=2.18->tensorflow-intel==2.18.0->tensorflow) (2.2.3)\n",
      "Requirement already satisfied: MarkupSafe>=2.1.1 in c:\\users\\nandu\\anaconda3\\lib\\site-packages (from werkzeug>=1.0.1->tensorboard<2.19,>=2.18->tensorflow-intel==2.18.0->tensorflow) (2.1.3)\n",
      "Requirement already satisfied: markdown-it-py<3.0.0,>=2.2.0 in c:\\users\\nandu\\anaconda3\\lib\\site-packages (from rich->keras>=3.5.0->tensorflow-intel==2.18.0->tensorflow) (2.2.0)\n",
      "Requirement already satisfied: pygments<3.0.0,>=2.13.0 in c:\\users\\nandu\\anaconda3\\lib\\site-packages (from rich->keras>=3.5.0->tensorflow-intel==2.18.0->tensorflow) (2.15.1)\n",
      "Requirement already satisfied: mdurl~=0.1 in c:\\users\\nandu\\anaconda3\\lib\\site-packages (from markdown-it-py<3.0.0,>=2.2.0->rich->keras>=3.5.0->tensorflow-intel==2.18.0->tensorflow) (0.1.0)\n",
      "Note: you may need to restart the kernel to use updated packages.\n"
     ]
    }
   ],
   "source": [
    "pip install tensorflow\n"
   ]
  },
  {
   "cell_type": "code",
   "execution_count": 37,
   "metadata": {
    "id": "mX35INUFI0xr"
   },
   "outputs": [],
   "source": [
    "#Let us create the Neural Network\n",
    "from keras.models import Sequential\n",
    "from keras.layers import Dense, Dropout"
   ]
  },
  {
   "cell_type": "code",
   "execution_count": 38,
   "metadata": {
    "id": "VYIsyqOUI0xs"
   },
   "outputs": [],
   "source": [
    "#Initialize ANN\n",
    "classifier = Sequential()"
   ]
  },
  {
   "cell_type": "code",
   "execution_count": 49,
   "metadata": {
    "id": "i3nH8oOhJcp8",
    "scrolled": true
   },
   "outputs": [],
   "source": [
    "from tensorflow.keras.models import Sequential\n",
    "from tensorflow.keras.layers import Dense, Dropout, Input\n",
    "\n",
    "# Initialize the model\n",
    "classifier = Sequential()\n",
    "\n",
    "# Add the input layer and first hidden layer\n",
    "classifier.add(Input(shape=(X_train.shape[1],)))  # Define the input shape\n",
    "classifier.add(Dense(6, activation='relu'))  # First hidden layer\n",
    "classifier.add(Dropout(rate=0.1))  # Dropout layer\n"
   ]
  },
  {
   "cell_type": "code",
   "execution_count": 50,
   "metadata": {
    "id": "gULE3c-YPvsI"
   },
   "outputs": [],
   "source": [
    "#Add second layer\n",
    "classifier.add(Dense(6, activation = 'relu'))\n",
    "classifier.add(Dropout(rate = 0.1))"
   ]
  },
  {
   "cell_type": "code",
   "execution_count": 51,
   "metadata": {
    "id": "j_XpNLaSP9Qk"
   },
   "outputs": [],
   "source": [
    "#Add output layer\n",
    "classifier.add(Dense(1, activation = 'sigmoid'))"
   ]
  },
  {
   "cell_type": "code",
   "execution_count": 52,
   "metadata": {
    "colab": {
     "base_uri": "https://localhost:8080/"
    },
    "id": "5rodKUhIQUWH",
    "outputId": "a8dd63ea-6662-41f3-a43b-4f3f4567a06d"
   },
   "outputs": [
    {
     "data": {
      "text/html": [
       "<pre style=\"white-space:pre;overflow-x:auto;line-height:normal;font-family:Menlo,'DejaVu Sans Mono',consolas,'Courier New',monospace\"><span style=\"font-weight: bold\">Model: \"sequential_2\"</span>\n",
       "</pre>\n"
      ],
      "text/plain": [
       "\u001b[1mModel: \"sequential_2\"\u001b[0m\n"
      ]
     },
     "metadata": {},
     "output_type": "display_data"
    },
    {
     "data": {
      "text/html": [
       "<pre style=\"white-space:pre;overflow-x:auto;line-height:normal;font-family:Menlo,'DejaVu Sans Mono',consolas,'Courier New',monospace\">┏━━━━━━━━━━━━━━━━━━━━━━━━━━━━━━━━━┳━━━━━━━━━━━━━━━━━━━━━━━━┳━━━━━━━━━━━━━━━┓\n",
       "┃<span style=\"font-weight: bold\"> Layer (type)                    </span>┃<span style=\"font-weight: bold\"> Output Shape           </span>┃<span style=\"font-weight: bold\">       Param # </span>┃\n",
       "┡━━━━━━━━━━━━━━━━━━━━━━━━━━━━━━━━━╇━━━━━━━━━━━━━━━━━━━━━━━━╇━━━━━━━━━━━━━━━┩\n",
       "│ dense_6 (<span style=\"color: #0087ff; text-decoration-color: #0087ff\">Dense</span>)                 │ (<span style=\"color: #00d7ff; text-decoration-color: #00d7ff\">None</span>, <span style=\"color: #00af00; text-decoration-color: #00af00\">6</span>)              │            <span style=\"color: #00af00; text-decoration-color: #00af00\">72</span> │\n",
       "├─────────────────────────────────┼────────────────────────┼───────────────┤\n",
       "│ dropout_4 (<span style=\"color: #0087ff; text-decoration-color: #0087ff\">Dropout</span>)             │ (<span style=\"color: #00d7ff; text-decoration-color: #00d7ff\">None</span>, <span style=\"color: #00af00; text-decoration-color: #00af00\">6</span>)              │             <span style=\"color: #00af00; text-decoration-color: #00af00\">0</span> │\n",
       "├─────────────────────────────────┼────────────────────────┼───────────────┤\n",
       "│ dense_7 (<span style=\"color: #0087ff; text-decoration-color: #0087ff\">Dense</span>)                 │ (<span style=\"color: #00d7ff; text-decoration-color: #00d7ff\">None</span>, <span style=\"color: #00af00; text-decoration-color: #00af00\">6</span>)              │            <span style=\"color: #00af00; text-decoration-color: #00af00\">42</span> │\n",
       "├─────────────────────────────────┼────────────────────────┼───────────────┤\n",
       "│ dropout_5 (<span style=\"color: #0087ff; text-decoration-color: #0087ff\">Dropout</span>)             │ (<span style=\"color: #00d7ff; text-decoration-color: #00d7ff\">None</span>, <span style=\"color: #00af00; text-decoration-color: #00af00\">6</span>)              │             <span style=\"color: #00af00; text-decoration-color: #00af00\">0</span> │\n",
       "├─────────────────────────────────┼────────────────────────┼───────────────┤\n",
       "│ dense_8 (<span style=\"color: #0087ff; text-decoration-color: #0087ff\">Dense</span>)                 │ (<span style=\"color: #00d7ff; text-decoration-color: #00d7ff\">None</span>, <span style=\"color: #00af00; text-decoration-color: #00af00\">1</span>)              │             <span style=\"color: #00af00; text-decoration-color: #00af00\">7</span> │\n",
       "└─────────────────────────────────┴────────────────────────┴───────────────┘\n",
       "</pre>\n"
      ],
      "text/plain": [
       "┏━━━━━━━━━━━━━━━━━━━━━━━━━━━━━━━━━┳━━━━━━━━━━━━━━━━━━━━━━━━┳━━━━━━━━━━━━━━━┓\n",
       "┃\u001b[1m \u001b[0m\u001b[1mLayer (type)                   \u001b[0m\u001b[1m \u001b[0m┃\u001b[1m \u001b[0m\u001b[1mOutput Shape          \u001b[0m\u001b[1m \u001b[0m┃\u001b[1m \u001b[0m\u001b[1m      Param #\u001b[0m\u001b[1m \u001b[0m┃\n",
       "┡━━━━━━━━━━━━━━━━━━━━━━━━━━━━━━━━━╇━━━━━━━━━━━━━━━━━━━━━━━━╇━━━━━━━━━━━━━━━┩\n",
       "│ dense_6 (\u001b[38;5;33mDense\u001b[0m)                 │ (\u001b[38;5;45mNone\u001b[0m, \u001b[38;5;34m6\u001b[0m)              │            \u001b[38;5;34m72\u001b[0m │\n",
       "├─────────────────────────────────┼────────────────────────┼───────────────┤\n",
       "│ dropout_4 (\u001b[38;5;33mDropout\u001b[0m)             │ (\u001b[38;5;45mNone\u001b[0m, \u001b[38;5;34m6\u001b[0m)              │             \u001b[38;5;34m0\u001b[0m │\n",
       "├─────────────────────────────────┼────────────────────────┼───────────────┤\n",
       "│ dense_7 (\u001b[38;5;33mDense\u001b[0m)                 │ (\u001b[38;5;45mNone\u001b[0m, \u001b[38;5;34m6\u001b[0m)              │            \u001b[38;5;34m42\u001b[0m │\n",
       "├─────────────────────────────────┼────────────────────────┼───────────────┤\n",
       "│ dropout_5 (\u001b[38;5;33mDropout\u001b[0m)             │ (\u001b[38;5;45mNone\u001b[0m, \u001b[38;5;34m6\u001b[0m)              │             \u001b[38;5;34m0\u001b[0m │\n",
       "├─────────────────────────────────┼────────────────────────┼───────────────┤\n",
       "│ dense_8 (\u001b[38;5;33mDense\u001b[0m)                 │ (\u001b[38;5;45mNone\u001b[0m, \u001b[38;5;34m1\u001b[0m)              │             \u001b[38;5;34m7\u001b[0m │\n",
       "└─────────────────────────────────┴────────────────────────┴───────────────┘\n"
      ]
     },
     "metadata": {},
     "output_type": "display_data"
    },
    {
     "data": {
      "text/html": [
       "<pre style=\"white-space:pre;overflow-x:auto;line-height:normal;font-family:Menlo,'DejaVu Sans Mono',consolas,'Courier New',monospace\"><span style=\"font-weight: bold\"> Total params: </span><span style=\"color: #00af00; text-decoration-color: #00af00\">121</span> (484.00 B)\n",
       "</pre>\n"
      ],
      "text/plain": [
       "\u001b[1m Total params: \u001b[0m\u001b[38;5;34m121\u001b[0m (484.00 B)\n"
      ]
     },
     "metadata": {},
     "output_type": "display_data"
    },
    {
     "data": {
      "text/html": [
       "<pre style=\"white-space:pre;overflow-x:auto;line-height:normal;font-family:Menlo,'DejaVu Sans Mono',consolas,'Courier New',monospace\"><span style=\"font-weight: bold\"> Trainable params: </span><span style=\"color: #00af00; text-decoration-color: #00af00\">121</span> (484.00 B)\n",
       "</pre>\n"
      ],
      "text/plain": [
       "\u001b[1m Trainable params: \u001b[0m\u001b[38;5;34m121\u001b[0m (484.00 B)\n"
      ]
     },
     "metadata": {},
     "output_type": "display_data"
    },
    {
     "data": {
      "text/html": [
       "<pre style=\"white-space:pre;overflow-x:auto;line-height:normal;font-family:Menlo,'DejaVu Sans Mono',consolas,'Courier New',monospace\"><span style=\"font-weight: bold\"> Non-trainable params: </span><span style=\"color: #00af00; text-decoration-color: #00af00\">0</span> (0.00 B)\n",
       "</pre>\n"
      ],
      "text/plain": [
       "\u001b[1m Non-trainable params: \u001b[0m\u001b[38;5;34m0\u001b[0m (0.00 B)\n"
      ]
     },
     "metadata": {},
     "output_type": "display_data"
    }
   ],
   "source": [
    "#Let us take a look at our network\n",
    "classifier.summary()"
   ]
  },
  {
   "cell_type": "code",
   "execution_count": 53,
   "metadata": {
    "id": "XfHGyyviSXed"
   },
   "outputs": [],
   "source": [
    "#Optimize the weights\n",
    "classifier.compile(optimizer = 'adam', loss = 'binary_crossentropy', metrics = ['accuracy'])"
   ]
  },
  {
   "cell_type": "code",
   "execution_count": 54,
   "metadata": {
    "colab": {
     "base_uri": "https://localhost:8080/"
    },
    "id": "7px7qzJQVhan",
    "outputId": "09d47fa7-684c-424c-f144-e86492bcfa24"
   },
   "outputs": [
    {
     "name": "stdout",
     "output_type": "stream",
     "text": [
      "Epoch 1/200\n",
      "225/225 - 2s - 10ms/step - accuracy: 0.5014 - loss: 0.7641 - val_accuracy: 0.7700 - val_loss: 0.6075\n",
      "Epoch 2/200\n",
      "225/225 - 0s - 1ms/step - accuracy: 0.7790 - loss: 0.5665 - val_accuracy: 0.7975 - val_loss: 0.5203\n",
      "Epoch 3/200\n",
      "225/225 - 0s - 2ms/step - accuracy: 0.7968 - loss: 0.5097 - val_accuracy: 0.8050 - val_loss: 0.4797\n",
      "Epoch 4/200\n",
      "225/225 - 0s - 2ms/step - accuracy: 0.8018 - loss: 0.4862 - val_accuracy: 0.8075 - val_loss: 0.4558\n",
      "Epoch 5/200\n",
      "225/225 - 0s - 2ms/step - accuracy: 0.8081 - loss: 0.4668 - val_accuracy: 0.8150 - val_loss: 0.4378\n",
      "Epoch 6/200\n",
      "225/225 - 0s - 2ms/step - accuracy: 0.8103 - loss: 0.4560 - val_accuracy: 0.8200 - val_loss: 0.4233\n",
      "Epoch 7/200\n",
      "225/225 - 0s - 2ms/step - accuracy: 0.8122 - loss: 0.4477 - val_accuracy: 0.8250 - val_loss: 0.4132\n",
      "Epoch 8/200\n",
      "225/225 - 0s - 2ms/step - accuracy: 0.8183 - loss: 0.4380 - val_accuracy: 0.8275 - val_loss: 0.4025\n",
      "Epoch 9/200\n",
      "225/225 - 0s - 2ms/step - accuracy: 0.8163 - loss: 0.4337 - val_accuracy: 0.8238 - val_loss: 0.3939\n",
      "Epoch 10/200\n",
      "225/225 - 1s - 2ms/step - accuracy: 0.8231 - loss: 0.4264 - val_accuracy: 0.8275 - val_loss: 0.3859\n",
      "Epoch 11/200\n",
      "225/225 - 1s - 2ms/step - accuracy: 0.8279 - loss: 0.4138 - val_accuracy: 0.8375 - val_loss: 0.3778\n",
      "Epoch 12/200\n",
      "225/225 - 0s - 2ms/step - accuracy: 0.8276 - loss: 0.4122 - val_accuracy: 0.8325 - val_loss: 0.3727\n",
      "Epoch 13/200\n",
      "225/225 - 0s - 2ms/step - accuracy: 0.8279 - loss: 0.4084 - val_accuracy: 0.8350 - val_loss: 0.3684\n",
      "Epoch 14/200\n",
      "225/225 - 1s - 2ms/step - accuracy: 0.8333 - loss: 0.4073 - val_accuracy: 0.8363 - val_loss: 0.3664\n",
      "Epoch 15/200\n",
      "225/225 - 0s - 2ms/step - accuracy: 0.8335 - loss: 0.4024 - val_accuracy: 0.8388 - val_loss: 0.3631\n",
      "Epoch 16/200\n",
      "225/225 - 0s - 2ms/step - accuracy: 0.8342 - loss: 0.4002 - val_accuracy: 0.8413 - val_loss: 0.3601\n",
      "Epoch 17/200\n",
      "225/225 - 0s - 2ms/step - accuracy: 0.8413 - loss: 0.3912 - val_accuracy: 0.8425 - val_loss: 0.3571\n",
      "Epoch 18/200\n",
      "225/225 - 0s - 2ms/step - accuracy: 0.8351 - loss: 0.3936 - val_accuracy: 0.8400 - val_loss: 0.3570\n",
      "Epoch 19/200\n",
      "225/225 - 1s - 2ms/step - accuracy: 0.8382 - loss: 0.3934 - val_accuracy: 0.8438 - val_loss: 0.3549\n",
      "Epoch 20/200\n",
      "225/225 - 0s - 2ms/step - accuracy: 0.8392 - loss: 0.3909 - val_accuracy: 0.8450 - val_loss: 0.3520\n",
      "Epoch 21/200\n",
      "225/225 - 0s - 2ms/step - accuracy: 0.8396 - loss: 0.3897 - val_accuracy: 0.8438 - val_loss: 0.3520\n",
      "Epoch 22/200\n",
      "225/225 - 0s - 2ms/step - accuracy: 0.8400 - loss: 0.3859 - val_accuracy: 0.8425 - val_loss: 0.3516\n",
      "Epoch 23/200\n",
      "225/225 - 0s - 2ms/step - accuracy: 0.8361 - loss: 0.3943 - val_accuracy: 0.8438 - val_loss: 0.3533\n",
      "Epoch 24/200\n",
      "225/225 - 0s - 1ms/step - accuracy: 0.8410 - loss: 0.3850 - val_accuracy: 0.8450 - val_loss: 0.3510\n",
      "Epoch 25/200\n",
      "225/225 - 0s - 1ms/step - accuracy: 0.8354 - loss: 0.3939 - val_accuracy: 0.8450 - val_loss: 0.3534\n",
      "Epoch 26/200\n",
      "225/225 - 0s - 1ms/step - accuracy: 0.8372 - loss: 0.3885 - val_accuracy: 0.8462 - val_loss: 0.3514\n",
      "Epoch 27/200\n",
      "225/225 - 0s - 1ms/step - accuracy: 0.8393 - loss: 0.3858 - val_accuracy: 0.8450 - val_loss: 0.3506\n",
      "Epoch 28/200\n",
      "225/225 - 0s - 2ms/step - accuracy: 0.8407 - loss: 0.3852 - val_accuracy: 0.8487 - val_loss: 0.3506\n",
      "Epoch 29/200\n",
      "225/225 - 1s - 2ms/step - accuracy: 0.8415 - loss: 0.3838 - val_accuracy: 0.8487 - val_loss: 0.3486\n",
      "Epoch 30/200\n",
      "225/225 - 0s - 2ms/step - accuracy: 0.8422 - loss: 0.3849 - val_accuracy: 0.8487 - val_loss: 0.3473\n",
      "Epoch 31/200\n",
      "225/225 - 0s - 2ms/step - accuracy: 0.8419 - loss: 0.3826 - val_accuracy: 0.8450 - val_loss: 0.3500\n",
      "Epoch 32/200\n",
      "225/225 - 0s - 2ms/step - accuracy: 0.8438 - loss: 0.3856 - val_accuracy: 0.8487 - val_loss: 0.3506\n",
      "Epoch 33/200\n",
      "225/225 - 1s - 2ms/step - accuracy: 0.8414 - loss: 0.3851 - val_accuracy: 0.8475 - val_loss: 0.3477\n",
      "Epoch 34/200\n",
      "225/225 - 1s - 2ms/step - accuracy: 0.8485 - loss: 0.3779 - val_accuracy: 0.8512 - val_loss: 0.3448\n",
      "Epoch 35/200\n",
      "225/225 - 0s - 2ms/step - accuracy: 0.8458 - loss: 0.3811 - val_accuracy: 0.8525 - val_loss: 0.3443\n",
      "Epoch 36/200\n",
      "225/225 - 0s - 1ms/step - accuracy: 0.8447 - loss: 0.3802 - val_accuracy: 0.8512 - val_loss: 0.3451\n",
      "Epoch 37/200\n",
      "225/225 - 1s - 2ms/step - accuracy: 0.8442 - loss: 0.3793 - val_accuracy: 0.8500 - val_loss: 0.3448\n",
      "Epoch 38/200\n",
      "225/225 - 1s - 2ms/step - accuracy: 0.8426 - loss: 0.3772 - val_accuracy: 0.8500 - val_loss: 0.3460\n",
      "Epoch 39/200\n",
      "225/225 - 0s - 2ms/step - accuracy: 0.8447 - loss: 0.3780 - val_accuracy: 0.8587 - val_loss: 0.3437\n",
      "Epoch 40/200\n",
      "225/225 - 0s - 1ms/step - accuracy: 0.8460 - loss: 0.3767 - val_accuracy: 0.8575 - val_loss: 0.3425\n",
      "Epoch 41/200\n",
      "225/225 - 0s - 1ms/step - accuracy: 0.8428 - loss: 0.3805 - val_accuracy: 0.8487 - val_loss: 0.3448\n",
      "Epoch 42/200\n",
      "225/225 - 0s - 2ms/step - accuracy: 0.8456 - loss: 0.3785 - val_accuracy: 0.8537 - val_loss: 0.3443\n",
      "Epoch 43/200\n",
      "225/225 - 1s - 2ms/step - accuracy: 0.8419 - loss: 0.3780 - val_accuracy: 0.8537 - val_loss: 0.3432\n",
      "Epoch 44/200\n",
      "225/225 - 0s - 2ms/step - accuracy: 0.8471 - loss: 0.3760 - val_accuracy: 0.8562 - val_loss: 0.3422\n",
      "Epoch 45/200\n",
      "225/225 - 0s - 1ms/step - accuracy: 0.8479 - loss: 0.3785 - val_accuracy: 0.8525 - val_loss: 0.3436\n",
      "Epoch 46/200\n",
      "225/225 - 0s - 1ms/step - accuracy: 0.8460 - loss: 0.3825 - val_accuracy: 0.8500 - val_loss: 0.3455\n",
      "Epoch 47/200\n",
      "225/225 - 1s - 2ms/step - accuracy: 0.8467 - loss: 0.3792 - val_accuracy: 0.8525 - val_loss: 0.3445\n",
      "Epoch 48/200\n",
      "225/225 - 0s - 2ms/step - accuracy: 0.8490 - loss: 0.3714 - val_accuracy: 0.8587 - val_loss: 0.3406\n",
      "Epoch 49/200\n",
      "225/225 - 0s - 2ms/step - accuracy: 0.8453 - loss: 0.3761 - val_accuracy: 0.8550 - val_loss: 0.3425\n",
      "Epoch 50/200\n",
      "225/225 - 0s - 1ms/step - accuracy: 0.8471 - loss: 0.3794 - val_accuracy: 0.8525 - val_loss: 0.3439\n",
      "Epoch 51/200\n",
      "225/225 - 0s - 2ms/step - accuracy: 0.8471 - loss: 0.3763 - val_accuracy: 0.8562 - val_loss: 0.3409\n",
      "Epoch 52/200\n",
      "225/225 - 0s - 2ms/step - accuracy: 0.8475 - loss: 0.3752 - val_accuracy: 0.8537 - val_loss: 0.3411\n",
      "Epoch 53/200\n",
      "225/225 - 0s - 2ms/step - accuracy: 0.8478 - loss: 0.3784 - val_accuracy: 0.8525 - val_loss: 0.3433\n",
      "Epoch 54/200\n",
      "225/225 - 0s - 2ms/step - accuracy: 0.8474 - loss: 0.3757 - val_accuracy: 0.8537 - val_loss: 0.3427\n",
      "Epoch 55/200\n",
      "225/225 - 0s - 2ms/step - accuracy: 0.8454 - loss: 0.3762 - val_accuracy: 0.8550 - val_loss: 0.3409\n",
      "Epoch 56/200\n",
      "225/225 - 0s - 2ms/step - accuracy: 0.8458 - loss: 0.3757 - val_accuracy: 0.8550 - val_loss: 0.3428\n",
      "Epoch 57/200\n",
      "225/225 - 0s - 2ms/step - accuracy: 0.8444 - loss: 0.3756 - val_accuracy: 0.8550 - val_loss: 0.3428\n",
      "Epoch 58/200\n",
      "225/225 - 0s - 2ms/step - accuracy: 0.8506 - loss: 0.3704 - val_accuracy: 0.8525 - val_loss: 0.3433\n",
      "Epoch 59/200\n",
      "225/225 - 1s - 2ms/step - accuracy: 0.8500 - loss: 0.3750 - val_accuracy: 0.8512 - val_loss: 0.3431\n",
      "Epoch 60/200\n",
      "225/225 - 0s - 2ms/step - accuracy: 0.8435 - loss: 0.3783 - val_accuracy: 0.8537 - val_loss: 0.3431\n",
      "Epoch 61/200\n",
      "225/225 - 0s - 1ms/step - accuracy: 0.8444 - loss: 0.3744 - val_accuracy: 0.8550 - val_loss: 0.3424\n",
      "Epoch 62/200\n",
      "225/225 - 0s - 1ms/step - accuracy: 0.8499 - loss: 0.3739 - val_accuracy: 0.8575 - val_loss: 0.3417\n",
      "Epoch 63/200\n",
      "225/225 - 0s - 1ms/step - accuracy: 0.8471 - loss: 0.3762 - val_accuracy: 0.8575 - val_loss: 0.3418\n",
      "Epoch 64/200\n",
      "225/225 - 0s - 1ms/step - accuracy: 0.8474 - loss: 0.3746 - val_accuracy: 0.8587 - val_loss: 0.3408\n",
      "Epoch 65/200\n",
      "225/225 - 0s - 1ms/step - accuracy: 0.8469 - loss: 0.3768 - val_accuracy: 0.8587 - val_loss: 0.3412\n",
      "Epoch 66/200\n",
      "225/225 - 0s - 1ms/step - accuracy: 0.8436 - loss: 0.3791 - val_accuracy: 0.8562 - val_loss: 0.3418\n",
      "Epoch 67/200\n",
      "225/225 - 0s - 2ms/step - accuracy: 0.8462 - loss: 0.3723 - val_accuracy: 0.8612 - val_loss: 0.3407\n",
      "Epoch 68/200\n",
      "225/225 - 0s - 2ms/step - accuracy: 0.8440 - loss: 0.3776 - val_accuracy: 0.8625 - val_loss: 0.3387\n",
      "Epoch 69/200\n",
      "225/225 - 0s - 2ms/step - accuracy: 0.8411 - loss: 0.3827 - val_accuracy: 0.8562 - val_loss: 0.3405\n",
      "Epoch 70/200\n",
      "225/225 - 1s - 2ms/step - accuracy: 0.8494 - loss: 0.3726 - val_accuracy: 0.8612 - val_loss: 0.3388\n",
      "Epoch 71/200\n",
      "225/225 - 0s - 2ms/step - accuracy: 0.8465 - loss: 0.3711 - val_accuracy: 0.8625 - val_loss: 0.3377\n",
      "Epoch 72/200\n",
      "225/225 - 0s - 2ms/step - accuracy: 0.8449 - loss: 0.3740 - val_accuracy: 0.8612 - val_loss: 0.3372\n",
      "Epoch 73/200\n",
      "225/225 - 0s - 2ms/step - accuracy: 0.8462 - loss: 0.3753 - val_accuracy: 0.8575 - val_loss: 0.3396\n",
      "Epoch 74/200\n",
      "225/225 - 0s - 2ms/step - accuracy: 0.8465 - loss: 0.3702 - val_accuracy: 0.8612 - val_loss: 0.3366\n",
      "Epoch 75/200\n",
      "225/225 - 1s - 2ms/step - accuracy: 0.8475 - loss: 0.3729 - val_accuracy: 0.8612 - val_loss: 0.3359\n",
      "Epoch 76/200\n",
      "225/225 - 0s - 2ms/step - accuracy: 0.8467 - loss: 0.3725 - val_accuracy: 0.8612 - val_loss: 0.3382\n",
      "Epoch 77/200\n",
      "225/225 - 0s - 1ms/step - accuracy: 0.8467 - loss: 0.3763 - val_accuracy: 0.8612 - val_loss: 0.3373\n",
      "Epoch 78/200\n",
      "225/225 - 0s - 2ms/step - accuracy: 0.8447 - loss: 0.3766 - val_accuracy: 0.8625 - val_loss: 0.3358\n",
      "Epoch 79/200\n",
      "225/225 - 0s - 2ms/step - accuracy: 0.8456 - loss: 0.3725 - val_accuracy: 0.8625 - val_loss: 0.3352\n",
      "Epoch 80/200\n",
      "225/225 - 0s - 2ms/step - accuracy: 0.8457 - loss: 0.3742 - val_accuracy: 0.8600 - val_loss: 0.3373\n",
      "Epoch 81/200\n",
      "225/225 - 0s - 2ms/step - accuracy: 0.8465 - loss: 0.3735 - val_accuracy: 0.8575 - val_loss: 0.3377\n",
      "Epoch 82/200\n",
      "225/225 - 0s - 2ms/step - accuracy: 0.8457 - loss: 0.3693 - val_accuracy: 0.8612 - val_loss: 0.3348\n",
      "Epoch 83/200\n",
      "225/225 - 0s - 2ms/step - accuracy: 0.8456 - loss: 0.3707 - val_accuracy: 0.8587 - val_loss: 0.3376\n",
      "Epoch 84/200\n",
      "225/225 - 0s - 2ms/step - accuracy: 0.8475 - loss: 0.3713 - val_accuracy: 0.8575 - val_loss: 0.3364\n",
      "Epoch 85/200\n",
      "225/225 - 0s - 2ms/step - accuracy: 0.8467 - loss: 0.3696 - val_accuracy: 0.8612 - val_loss: 0.3349\n",
      "Epoch 86/200\n",
      "225/225 - 0s - 2ms/step - accuracy: 0.8492 - loss: 0.3681 - val_accuracy: 0.8600 - val_loss: 0.3356\n",
      "Epoch 87/200\n",
      "225/225 - 0s - 2ms/step - accuracy: 0.8497 - loss: 0.3714 - val_accuracy: 0.8600 - val_loss: 0.3367\n",
      "Epoch 88/200\n",
      "225/225 - 0s - 2ms/step - accuracy: 0.8476 - loss: 0.3717 - val_accuracy: 0.8600 - val_loss: 0.3362\n",
      "Epoch 89/200\n",
      "225/225 - 0s - 2ms/step - accuracy: 0.8483 - loss: 0.3692 - val_accuracy: 0.8587 - val_loss: 0.3383\n",
      "Epoch 90/200\n",
      "225/225 - 0s - 2ms/step - accuracy: 0.8489 - loss: 0.3679 - val_accuracy: 0.8612 - val_loss: 0.3368\n",
      "Epoch 91/200\n",
      "225/225 - 0s - 1ms/step - accuracy: 0.8487 - loss: 0.3697 - val_accuracy: 0.8625 - val_loss: 0.3360\n",
      "Epoch 92/200\n",
      "225/225 - 0s - 1ms/step - accuracy: 0.8472 - loss: 0.3697 - val_accuracy: 0.8625 - val_loss: 0.3360\n",
      "Epoch 93/200\n",
      "225/225 - 0s - 2ms/step - accuracy: 0.8461 - loss: 0.3744 - val_accuracy: 0.8650 - val_loss: 0.3361\n",
      "Epoch 94/200\n",
      "225/225 - 1s - 2ms/step - accuracy: 0.8487 - loss: 0.3657 - val_accuracy: 0.8612 - val_loss: 0.3379\n",
      "Epoch 95/200\n",
      "225/225 - 0s - 2ms/step - accuracy: 0.8494 - loss: 0.3713 - val_accuracy: 0.8637 - val_loss: 0.3349\n",
      "Epoch 96/200\n",
      "225/225 - 0s - 2ms/step - accuracy: 0.8475 - loss: 0.3664 - val_accuracy: 0.8600 - val_loss: 0.3359\n",
      "Epoch 97/200\n",
      "225/225 - 0s - 2ms/step - accuracy: 0.8504 - loss: 0.3653 - val_accuracy: 0.8612 - val_loss: 0.3366\n",
      "Epoch 98/200\n",
      "225/225 - 1s - 2ms/step - accuracy: 0.8487 - loss: 0.3697 - val_accuracy: 0.8612 - val_loss: 0.3356\n",
      "Epoch 99/200\n",
      "225/225 - 0s - 2ms/step - accuracy: 0.8464 - loss: 0.3723 - val_accuracy: 0.8575 - val_loss: 0.3373\n",
      "Epoch 100/200\n",
      "225/225 - 0s - 1ms/step - accuracy: 0.8453 - loss: 0.3754 - val_accuracy: 0.8587 - val_loss: 0.3371\n",
      "Epoch 101/200\n",
      "225/225 - 0s - 1ms/step - accuracy: 0.8478 - loss: 0.3708 - val_accuracy: 0.8575 - val_loss: 0.3373\n",
      "Epoch 102/200\n",
      "225/225 - 0s - 2ms/step - accuracy: 0.8479 - loss: 0.3672 - val_accuracy: 0.8587 - val_loss: 0.3359\n",
      "Epoch 103/200\n",
      "225/225 - 0s - 1ms/step - accuracy: 0.8506 - loss: 0.3676 - val_accuracy: 0.8600 - val_loss: 0.3355\n",
      "Epoch 104/200\n",
      "225/225 - 0s - 1ms/step - accuracy: 0.8475 - loss: 0.3720 - val_accuracy: 0.8600 - val_loss: 0.3356\n",
      "Epoch 105/200\n",
      "225/225 - 1s - 2ms/step - accuracy: 0.8485 - loss: 0.3689 - val_accuracy: 0.8612 - val_loss: 0.3363\n",
      "Epoch 106/200\n",
      "225/225 - 0s - 2ms/step - accuracy: 0.8485 - loss: 0.3704 - val_accuracy: 0.8600 - val_loss: 0.3371\n",
      "Epoch 107/200\n",
      "225/225 - 0s - 2ms/step - accuracy: 0.8476 - loss: 0.3694 - val_accuracy: 0.8587 - val_loss: 0.3377\n",
      "Epoch 108/200\n",
      "225/225 - 1s - 2ms/step - accuracy: 0.8496 - loss: 0.3704 - val_accuracy: 0.8550 - val_loss: 0.3386\n",
      "Epoch 109/200\n",
      "225/225 - 1s - 2ms/step - accuracy: 0.8468 - loss: 0.3709 - val_accuracy: 0.8562 - val_loss: 0.3376\n",
      "Epoch 110/200\n",
      "225/225 - 0s - 2ms/step - accuracy: 0.8472 - loss: 0.3678 - val_accuracy: 0.8575 - val_loss: 0.3381\n",
      "Epoch 111/200\n",
      "225/225 - 0s - 2ms/step - accuracy: 0.8506 - loss: 0.3688 - val_accuracy: 0.8600 - val_loss: 0.3374\n",
      "Epoch 112/200\n",
      "225/225 - 0s - 2ms/step - accuracy: 0.8485 - loss: 0.3697 - val_accuracy: 0.8612 - val_loss: 0.3372\n",
      "Epoch 113/200\n",
      "225/225 - 1s - 2ms/step - accuracy: 0.8449 - loss: 0.3689 - val_accuracy: 0.8537 - val_loss: 0.3408\n",
      "Epoch 114/200\n",
      "225/225 - 0s - 2ms/step - accuracy: 0.8453 - loss: 0.3726 - val_accuracy: 0.8562 - val_loss: 0.3391\n",
      "Epoch 115/200\n",
      "225/225 - 1s - 2ms/step - accuracy: 0.8475 - loss: 0.3720 - val_accuracy: 0.8562 - val_loss: 0.3393\n",
      "Epoch 116/200\n",
      "225/225 - 0s - 2ms/step - accuracy: 0.8428 - loss: 0.3748 - val_accuracy: 0.8562 - val_loss: 0.3387\n",
      "Epoch 117/200\n",
      "225/225 - 1s - 2ms/step - accuracy: 0.8481 - loss: 0.3683 - val_accuracy: 0.8562 - val_loss: 0.3386\n",
      "Epoch 118/200\n",
      "225/225 - 0s - 2ms/step - accuracy: 0.8493 - loss: 0.3674 - val_accuracy: 0.8575 - val_loss: 0.3363\n",
      "Epoch 119/200\n",
      "225/225 - 0s - 2ms/step - accuracy: 0.8467 - loss: 0.3693 - val_accuracy: 0.8587 - val_loss: 0.3363\n",
      "Epoch 120/200\n",
      "225/225 - 0s - 1ms/step - accuracy: 0.8474 - loss: 0.3690 - val_accuracy: 0.8562 - val_loss: 0.3378\n",
      "Epoch 121/200\n",
      "225/225 - 0s - 2ms/step - accuracy: 0.8456 - loss: 0.3697 - val_accuracy: 0.8550 - val_loss: 0.3410\n",
      "Epoch 122/200\n",
      "225/225 - 1s - 2ms/step - accuracy: 0.8465 - loss: 0.3716 - val_accuracy: 0.8550 - val_loss: 0.3386\n",
      "Epoch 123/200\n",
      "225/225 - 1s - 2ms/step - accuracy: 0.8476 - loss: 0.3662 - val_accuracy: 0.8550 - val_loss: 0.3374\n",
      "Epoch 124/200\n",
      "225/225 - 0s - 2ms/step - accuracy: 0.8501 - loss: 0.3679 - val_accuracy: 0.8550 - val_loss: 0.3380\n",
      "Epoch 125/200\n",
      "225/225 - 0s - 2ms/step - accuracy: 0.8503 - loss: 0.3669 - val_accuracy: 0.8537 - val_loss: 0.3396\n",
      "Epoch 126/200\n",
      "225/225 - 0s - 1ms/step - accuracy: 0.8493 - loss: 0.3696 - val_accuracy: 0.8575 - val_loss: 0.3385\n",
      "Epoch 127/200\n",
      "225/225 - 0s - 2ms/step - accuracy: 0.8493 - loss: 0.3672 - val_accuracy: 0.8587 - val_loss: 0.3384\n",
      "Epoch 128/200\n",
      "225/225 - 1s - 2ms/step - accuracy: 0.8458 - loss: 0.3700 - val_accuracy: 0.8575 - val_loss: 0.3371\n",
      "Epoch 129/200\n",
      "225/225 - 0s - 2ms/step - accuracy: 0.8479 - loss: 0.3674 - val_accuracy: 0.8550 - val_loss: 0.3391\n",
      "Epoch 130/200\n",
      "225/225 - 0s - 2ms/step - accuracy: 0.8479 - loss: 0.3655 - val_accuracy: 0.8587 - val_loss: 0.3372\n",
      "Epoch 131/200\n",
      "225/225 - 0s - 2ms/step - accuracy: 0.8465 - loss: 0.3707 - val_accuracy: 0.8575 - val_loss: 0.3389\n",
      "Epoch 132/200\n",
      "225/225 - 1s - 2ms/step - accuracy: 0.8471 - loss: 0.3687 - val_accuracy: 0.8587 - val_loss: 0.3371\n",
      "Epoch 133/200\n",
      "225/225 - 0s - 2ms/step - accuracy: 0.8461 - loss: 0.3711 - val_accuracy: 0.8562 - val_loss: 0.3416\n",
      "Epoch 134/200\n",
      "225/225 - 0s - 2ms/step - accuracy: 0.8451 - loss: 0.3674 - val_accuracy: 0.8562 - val_loss: 0.3398\n",
      "Epoch 135/200\n",
      "225/225 - 0s - 1ms/step - accuracy: 0.8510 - loss: 0.3657 - val_accuracy: 0.8600 - val_loss: 0.3383\n",
      "Epoch 136/200\n",
      "225/225 - 0s - 1ms/step - accuracy: 0.8443 - loss: 0.3701 - val_accuracy: 0.8537 - val_loss: 0.3397\n",
      "Epoch 137/200\n",
      "225/225 - 0s - 2ms/step - accuracy: 0.8478 - loss: 0.3648 - val_accuracy: 0.8550 - val_loss: 0.3388\n",
      "Epoch 138/200\n",
      "225/225 - 0s - 1ms/step - accuracy: 0.8487 - loss: 0.3678 - val_accuracy: 0.8550 - val_loss: 0.3403\n",
      "Epoch 139/200\n",
      "225/225 - 0s - 1ms/step - accuracy: 0.8478 - loss: 0.3695 - val_accuracy: 0.8562 - val_loss: 0.3390\n",
      "Epoch 140/200\n",
      "225/225 - 0s - 2ms/step - accuracy: 0.8482 - loss: 0.3712 - val_accuracy: 0.8562 - val_loss: 0.3395\n",
      "Epoch 141/200\n",
      "225/225 - 0s - 1ms/step - accuracy: 0.8467 - loss: 0.3694 - val_accuracy: 0.8562 - val_loss: 0.3390\n",
      "Epoch 142/200\n",
      "225/225 - 0s - 1ms/step - accuracy: 0.8512 - loss: 0.3627 - val_accuracy: 0.8600 - val_loss: 0.3380\n",
      "Epoch 143/200\n",
      "225/225 - 0s - 2ms/step - accuracy: 0.8481 - loss: 0.3701 - val_accuracy: 0.8600 - val_loss: 0.3401\n",
      "Epoch 144/200\n",
      "225/225 - 0s - 2ms/step - accuracy: 0.8504 - loss: 0.3682 - val_accuracy: 0.8600 - val_loss: 0.3383\n",
      "Epoch 145/200\n",
      "225/225 - 1s - 2ms/step - accuracy: 0.8474 - loss: 0.3687 - val_accuracy: 0.8562 - val_loss: 0.3390\n",
      "Epoch 146/200\n",
      "225/225 - 0s - 2ms/step - accuracy: 0.8483 - loss: 0.3673 - val_accuracy: 0.8575 - val_loss: 0.3404\n",
      "Epoch 147/200\n",
      "225/225 - 0s - 1ms/step - accuracy: 0.8510 - loss: 0.3661 - val_accuracy: 0.8575 - val_loss: 0.3390\n",
      "Epoch 148/200\n",
      "225/225 - 0s - 2ms/step - accuracy: 0.8464 - loss: 0.3723 - val_accuracy: 0.8587 - val_loss: 0.3386\n",
      "Epoch 149/200\n",
      "225/225 - 0s - 2ms/step - accuracy: 0.8521 - loss: 0.3667 - val_accuracy: 0.8550 - val_loss: 0.3390\n",
      "Epoch 150/200\n",
      "225/225 - 0s - 2ms/step - accuracy: 0.8472 - loss: 0.3675 - val_accuracy: 0.8537 - val_loss: 0.3393\n",
      "Epoch 151/200\n",
      "225/225 - 0s - 2ms/step - accuracy: 0.8500 - loss: 0.3689 - val_accuracy: 0.8537 - val_loss: 0.3397\n",
      "Epoch 152/200\n",
      "225/225 - 0s - 1ms/step - accuracy: 0.8499 - loss: 0.3662 - val_accuracy: 0.8612 - val_loss: 0.3373\n",
      "Epoch 153/200\n",
      "225/225 - 0s - 1ms/step - accuracy: 0.8497 - loss: 0.3652 - val_accuracy: 0.8550 - val_loss: 0.3403\n",
      "Epoch 154/200\n",
      "225/225 - 1s - 2ms/step - accuracy: 0.8512 - loss: 0.3642 - val_accuracy: 0.8562 - val_loss: 0.3388\n",
      "Epoch 155/200\n",
      "225/225 - 0s - 2ms/step - accuracy: 0.8514 - loss: 0.3642 - val_accuracy: 0.8612 - val_loss: 0.3377\n",
      "Epoch 156/200\n",
      "225/225 - 0s - 2ms/step - accuracy: 0.8467 - loss: 0.3699 - val_accuracy: 0.8600 - val_loss: 0.3377\n",
      "Epoch 157/200\n",
      "225/225 - 0s - 1ms/step - accuracy: 0.8503 - loss: 0.3676 - val_accuracy: 0.8575 - val_loss: 0.3394\n",
      "Epoch 158/200\n",
      "225/225 - 0s - 2ms/step - accuracy: 0.8496 - loss: 0.3667 - val_accuracy: 0.8575 - val_loss: 0.3384\n",
      "Epoch 159/200\n",
      "225/225 - 0s - 2ms/step - accuracy: 0.8486 - loss: 0.3677 - val_accuracy: 0.8625 - val_loss: 0.3376\n",
      "Epoch 160/200\n",
      "225/225 - 1s - 2ms/step - accuracy: 0.8485 - loss: 0.3674 - val_accuracy: 0.8562 - val_loss: 0.3388\n",
      "Epoch 161/200\n",
      "225/225 - 0s - 2ms/step - accuracy: 0.8446 - loss: 0.3728 - val_accuracy: 0.8562 - val_loss: 0.3396\n",
      "Epoch 162/200\n",
      "225/225 - 0s - 1ms/step - accuracy: 0.8494 - loss: 0.3689 - val_accuracy: 0.8587 - val_loss: 0.3385\n",
      "Epoch 163/200\n",
      "225/225 - 0s - 2ms/step - accuracy: 0.8486 - loss: 0.3659 - val_accuracy: 0.8562 - val_loss: 0.3380\n",
      "Epoch 164/200\n",
      "225/225 - 0s - 2ms/step - accuracy: 0.8440 - loss: 0.3722 - val_accuracy: 0.8562 - val_loss: 0.3384\n",
      "Epoch 165/200\n",
      "225/225 - 0s - 2ms/step - accuracy: 0.8449 - loss: 0.3699 - val_accuracy: 0.8537 - val_loss: 0.3393\n",
      "Epoch 166/200\n",
      "225/225 - 0s - 2ms/step - accuracy: 0.8478 - loss: 0.3677 - val_accuracy: 0.8587 - val_loss: 0.3398\n",
      "Epoch 167/200\n",
      "225/225 - 0s - 1ms/step - accuracy: 0.8517 - loss: 0.3642 - val_accuracy: 0.8587 - val_loss: 0.3364\n",
      "Epoch 168/200\n",
      "225/225 - 0s - 2ms/step - accuracy: 0.8454 - loss: 0.3675 - val_accuracy: 0.8625 - val_loss: 0.3367\n",
      "Epoch 169/200\n",
      "225/225 - 0s - 2ms/step - accuracy: 0.8479 - loss: 0.3669 - val_accuracy: 0.8600 - val_loss: 0.3363\n",
      "Epoch 170/200\n",
      "225/225 - 1s - 2ms/step - accuracy: 0.8482 - loss: 0.3699 - val_accuracy: 0.8600 - val_loss: 0.3384\n",
      "Epoch 171/200\n",
      "225/225 - 0s - 2ms/step - accuracy: 0.8482 - loss: 0.3632 - val_accuracy: 0.8587 - val_loss: 0.3358\n",
      "Epoch 172/200\n",
      "225/225 - 0s - 1ms/step - accuracy: 0.8450 - loss: 0.3711 - val_accuracy: 0.8537 - val_loss: 0.3384\n",
      "Epoch 173/200\n",
      "225/225 - 0s - 2ms/step - accuracy: 0.8493 - loss: 0.3669 - val_accuracy: 0.8562 - val_loss: 0.3395\n",
      "Epoch 174/200\n",
      "225/225 - 0s - 2ms/step - accuracy: 0.8492 - loss: 0.3668 - val_accuracy: 0.8575 - val_loss: 0.3388\n",
      "Epoch 175/200\n",
      "225/225 - 1s - 2ms/step - accuracy: 0.8487 - loss: 0.3673 - val_accuracy: 0.8612 - val_loss: 0.3375\n",
      "Epoch 176/200\n",
      "225/225 - 0s - 2ms/step - accuracy: 0.8481 - loss: 0.3653 - val_accuracy: 0.8575 - val_loss: 0.3387\n",
      "Epoch 177/200\n",
      "225/225 - 0s - 1ms/step - accuracy: 0.8508 - loss: 0.3595 - val_accuracy: 0.8587 - val_loss: 0.3363\n",
      "Epoch 178/200\n",
      "225/225 - 0s - 1ms/step - accuracy: 0.8465 - loss: 0.3672 - val_accuracy: 0.8625 - val_loss: 0.3361\n",
      "Epoch 179/200\n",
      "225/225 - 0s - 2ms/step - accuracy: 0.8471 - loss: 0.3668 - val_accuracy: 0.8637 - val_loss: 0.3363\n",
      "Epoch 180/200\n",
      "225/225 - 0s - 1ms/step - accuracy: 0.8504 - loss: 0.3603 - val_accuracy: 0.8612 - val_loss: 0.3356\n",
      "Epoch 181/200\n",
      "225/225 - 0s - 2ms/step - accuracy: 0.8507 - loss: 0.3683 - val_accuracy: 0.8562 - val_loss: 0.3388\n",
      "Epoch 182/200\n",
      "225/225 - 0s - 2ms/step - accuracy: 0.8476 - loss: 0.3666 - val_accuracy: 0.8562 - val_loss: 0.3389\n",
      "Epoch 183/200\n",
      "225/225 - 0s - 2ms/step - accuracy: 0.8482 - loss: 0.3717 - val_accuracy: 0.8587 - val_loss: 0.3390\n",
      "Epoch 184/200\n",
      "225/225 - 1s - 2ms/step - accuracy: 0.8485 - loss: 0.3717 - val_accuracy: 0.8587 - val_loss: 0.3391\n",
      "Epoch 185/200\n",
      "225/225 - 1s - 2ms/step - accuracy: 0.8500 - loss: 0.3659 - val_accuracy: 0.8562 - val_loss: 0.3380\n",
      "Epoch 186/200\n",
      "225/225 - 0s - 2ms/step - accuracy: 0.8486 - loss: 0.3670 - val_accuracy: 0.8612 - val_loss: 0.3373\n",
      "Epoch 187/200\n",
      "225/225 - 0s - 2ms/step - accuracy: 0.8512 - loss: 0.3635 - val_accuracy: 0.8612 - val_loss: 0.3364\n",
      "Epoch 188/200\n",
      "225/225 - 0s - 2ms/step - accuracy: 0.8444 - loss: 0.3744 - val_accuracy: 0.8587 - val_loss: 0.3394\n",
      "Epoch 189/200\n",
      "225/225 - 1s - 2ms/step - accuracy: 0.8494 - loss: 0.3647 - val_accuracy: 0.8600 - val_loss: 0.3364\n",
      "Epoch 190/200\n",
      "225/225 - 0s - 2ms/step - accuracy: 0.8503 - loss: 0.3650 - val_accuracy: 0.8575 - val_loss: 0.3377\n",
      "Epoch 191/200\n",
      "225/225 - 0s - 2ms/step - accuracy: 0.8486 - loss: 0.3660 - val_accuracy: 0.8625 - val_loss: 0.3378\n",
      "Epoch 192/200\n",
      "225/225 - 0s - 2ms/step - accuracy: 0.8465 - loss: 0.3673 - val_accuracy: 0.8612 - val_loss: 0.3364\n",
      "Epoch 193/200\n",
      "225/225 - 1s - 2ms/step - accuracy: 0.8485 - loss: 0.3648 - val_accuracy: 0.8587 - val_loss: 0.3373\n",
      "Epoch 194/200\n",
      "225/225 - 1s - 2ms/step - accuracy: 0.8493 - loss: 0.3630 - val_accuracy: 0.8625 - val_loss: 0.3369\n",
      "Epoch 195/200\n",
      "225/225 - 0s - 2ms/step - accuracy: 0.8476 - loss: 0.3686 - val_accuracy: 0.8587 - val_loss: 0.3375\n",
      "Epoch 196/200\n",
      "225/225 - 0s - 1ms/step - accuracy: 0.8500 - loss: 0.3633 - val_accuracy: 0.8600 - val_loss: 0.3359\n",
      "Epoch 197/200\n",
      "225/225 - 1s - 2ms/step - accuracy: 0.8519 - loss: 0.3611 - val_accuracy: 0.8587 - val_loss: 0.3380\n",
      "Epoch 198/200\n",
      "225/225 - 0s - 2ms/step - accuracy: 0.8486 - loss: 0.3659 - val_accuracy: 0.8562 - val_loss: 0.3386\n",
      "Epoch 199/200\n",
      "225/225 - 1s - 2ms/step - accuracy: 0.8501 - loss: 0.3665 - val_accuracy: 0.8562 - val_loss: 0.3383\n",
      "Epoch 200/200\n",
      "225/225 - 0s - 2ms/step - accuracy: 0.8512 - loss: 0.3633 - val_accuracy: 0.8600 - val_loss: 0.3368\n"
     ]
    }
   ],
   "source": [
    "#Fitting the Neural Network\n",
    "history = classifier.fit(X_train, y_train, batch_size = 32, epochs = 200, validation_split = 0.1, verbose = 2)"
   ]
  },
  {
   "cell_type": "code",
   "execution_count": 55,
   "metadata": {
    "colab": {
     "base_uri": "https://localhost:8080/"
    },
    "id": "aq1-eNM2YqL8",
    "outputId": "0fd0fa0a-cf54-4637-f8b6-f15342002a15"
   },
   "outputs": [
    {
     "name": "stdout",
     "output_type": "stream",
     "text": [
      "\u001b[1m63/63\u001b[0m \u001b[32m━━━━━━━━━━━━━━━━━━━━\u001b[0m\u001b[37m\u001b[0m \u001b[1m0s\u001b[0m 3ms/step\n",
      "[[0.17874081]\n",
      " [0.21996188]\n",
      " [0.19070846]\n",
      " [0.1296877 ]\n",
      " [0.08603524]]\n"
     ]
    }
   ],
   "source": [
    "y_pred = classifier.predict(X_test)\n",
    "print(y_pred[:5])"
   ]
  },
  {
   "cell_type": "code",
   "execution_count": 56,
   "metadata": {
    "colab": {
     "base_uri": "https://localhost:8080/"
    },
    "id": "S8JJz5bLY-7I",
    "outputId": "00827497-0dfb-49c4-d70b-2071d70ae5f0"
   },
   "outputs": [
    {
     "name": "stdout",
     "output_type": "stream",
     "text": [
      "[[0]\n",
      " [0]\n",
      " [0]\n",
      " [0]\n",
      " [0]]\n"
     ]
    }
   ],
   "source": [
    "#Let us use confusion matrix with cutoff value as 0.5\n",
    "y_pred = (y_pred > 0.5).astype(int)\n",
    "print(y_pred[:5])"
   ]
  },
  {
   "cell_type": "code",
   "execution_count": 57,
   "metadata": {
    "colab": {
     "base_uri": "https://localhost:8080/"
    },
    "id": "Bcyv6h2UZPbO",
    "outputId": "6ca6b222-2516-4b03-c081-1ba7feaa6817"
   },
   "outputs": [
    {
     "name": "stdout",
     "output_type": "stream",
     "text": [
      "[[1548   47]\n",
      " [ 232  173]]\n"
     ]
    }
   ],
   "source": [
    "#Making the Matrix\n",
    "from sklearn.metrics import confusion_matrix\n",
    "cm = confusion_matrix(y_test, y_pred)\n",
    "print(cm)"
   ]
  },
  {
   "cell_type": "code",
   "execution_count": 58,
   "metadata": {
    "colab": {
     "base_uri": "https://localhost:8080/"
    },
    "id": "l3weViSLZc1v",
    "outputId": "64895b62-30f8-4e86-e592-d3fae20b2673"
   },
   "outputs": [
    {
     "name": "stdout",
     "output_type": "stream",
     "text": [
      "86.05 % of data was classified correctly\n"
     ]
    }
   ],
   "source": [
    "#Accuracy of our NN\n",
    "print(((cm[0][0] + cm[1][1])* 100) / len(y_test), '% of data was classified correctly')"
   ]
  },
  {
   "cell_type": "code",
   "execution_count": null,
   "metadata": {},
   "outputs": [],
   "source": []
  },
  {
   "cell_type": "code",
   "execution_count": null,
   "metadata": {},
   "outputs": [],
   "source": []
  },
  {
   "cell_type": "code",
   "execution_count": null,
   "metadata": {},
   "outputs": [],
   "source": []
  },
  {
   "cell_type": "code",
   "execution_count": null,
   "metadata": {},
   "outputs": [],
   "source": []
  },
  {
   "cell_type": "code",
   "execution_count": null,
   "metadata": {},
   "outputs": [],
   "source": []
  },
  {
   "cell_type": "code",
   "execution_count": null,
   "metadata": {},
   "outputs": [],
   "source": []
  },
  {
   "cell_type": "code",
   "execution_count": null,
   "metadata": {},
   "outputs": [],
   "source": []
  }
 ],
 "metadata": {
  "colab": {
   "provenance": []
  },
  "interpreter": {
   "hash": "f82e9eef39fec3b4432bd3d531b07136b7f172564442eec42315ae171445fe6f"
  },
  "kernelspec": {
   "display_name": "Python 3 (ipykernel)",
   "language": "python",
   "name": "python3"
  },
  "language_info": {
   "codemirror_mode": {
    "name": "ipython",
    "version": 3
   },
   "file_extension": ".py",
   "mimetype": "text/x-python",
   "name": "python",
   "nbconvert_exporter": "python",
   "pygments_lexer": "ipython3",
   "version": "3.11.7"
  }
 },
 "nbformat": 4,
 "nbformat_minor": 4
}
